{
 "cells": [
  {
   "cell_type": "code",
   "execution_count": 3,
   "id": "cdb40b29-7f8b-4917-a3d2-2d69b8876064",
   "metadata": {},
   "outputs": [
    {
     "name": "stdout",
     "output_type": "stream",
     "text": [
      "Defaulting to user installation because normal site-packages is not writeable\n",
      "Looking in links: /usr/share/pip-wheels\n",
      "Requirement already satisfied: pandas in /opt/conda/envs/anaconda-ai-2024.04-py310/lib/python3.10/site-packages (2.1.4)\n",
      "Requirement already satisfied: scikit-learn in /opt/conda/envs/anaconda-ai-2024.04-py310/lib/python3.10/site-packages (1.3.0)\n",
      "Requirement already satisfied: numpy in /opt/conda/envs/anaconda-ai-2024.04-py310/lib/python3.10/site-packages (1.26.4)\n",
      "Requirement already satisfied: python-dateutil>=2.8.2 in /opt/conda/envs/anaconda-ai-2024.04-py310/lib/python3.10/site-packages (from pandas) (2.8.2)\n",
      "Requirement already satisfied: pytz>=2020.1 in /opt/conda/envs/anaconda-ai-2024.04-py310/lib/python3.10/site-packages (from pandas) (2023.3.post1)\n",
      "Requirement already satisfied: tzdata>=2022.1 in /opt/conda/envs/anaconda-ai-2024.04-py310/lib/python3.10/site-packages (from pandas) (2023.3)\n",
      "Requirement already satisfied: scipy>=1.5.0 in /opt/conda/envs/anaconda-ai-2024.04-py310/lib/python3.10/site-packages (from scikit-learn) (1.12.0)\n",
      "Requirement already satisfied: joblib>=1.1.1 in /opt/conda/envs/anaconda-ai-2024.04-py310/lib/python3.10/site-packages (from scikit-learn) (1.2.0)\n",
      "Requirement already satisfied: threadpoolctl>=2.0.0 in /opt/conda/envs/anaconda-ai-2024.04-py310/lib/python3.10/site-packages (from scikit-learn) (2.2.0)\n",
      "Requirement already satisfied: six>=1.5 in /opt/conda/envs/anaconda-ai-2024.04-py310/lib/python3.10/site-packages (from python-dateutil>=2.8.2->pandas) (1.16.0)\n",
      "Note: you may need to restart the kernel to use updated packages.\n"
     ]
    }
   ],
   "source": [
    "pip install pandas scikit-learn numpy"
   ]
  },
  {
   "cell_type": "code",
   "execution_count": 86,
   "id": "d36b92f6-1fe1-43e0-aab1-f02f48be05bf",
   "metadata": {},
   "outputs": [
    {
     "name": "stdout",
     "output_type": "stream",
     "text": [
      "                                         Poster_Link  \\\n",
      "0  https://m.media-amazon.com/images/M/MV5BMDFkYT...   \n",
      "1  https://m.media-amazon.com/images/M/MV5BM2MyNj...   \n",
      "2  https://m.media-amazon.com/images/M/MV5BMTMxNT...   \n",
      "3  https://m.media-amazon.com/images/M/MV5BMWMwMG...   \n",
      "4  https://m.media-amazon.com/images/M/MV5BMWU4N2...   \n",
      "\n",
      "               Series_Title Released_Year Certificate  Runtime  \\\n",
      "0  The Shawshank Redemption          1994           A  142 min   \n",
      "1             The Godfather          1972           A  175 min   \n",
      "2           The Dark Knight          2008          UA  152 min   \n",
      "3    The Godfather: Part II          1974           A  202 min   \n",
      "4              12 Angry Men          1957           U   96 min   \n",
      "\n",
      "                  Genre  IMDB_Rating  \\\n",
      "0                 Drama          9.3   \n",
      "1          Crime, Drama          9.2   \n",
      "2  Action, Crime, Drama          9.0   \n",
      "3          Crime, Drama          9.0   \n",
      "4          Crime, Drama          9.0   \n",
      "\n",
      "                                            Overview  Meta_score  \\\n",
      "0  Two imprisoned men bond over a number of years...        80.0   \n",
      "1  An organized crime dynasty's aging patriarch t...       100.0   \n",
      "2  When the menace known as the Joker wreaks havo...        84.0   \n",
      "3  The early life and career of Vito Corleone in ...        90.0   \n",
      "4  A jury holdout attempts to prevent a miscarria...        96.0   \n",
      "\n",
      "               Director           Star1           Star2          Star3  \\\n",
      "0        Frank Darabont     Tim Robbins  Morgan Freeman     Bob Gunton   \n",
      "1  Francis Ford Coppola   Marlon Brando       Al Pacino     James Caan   \n",
      "2     Christopher Nolan  Christian Bale    Heath Ledger  Aaron Eckhart   \n",
      "3  Francis Ford Coppola       Al Pacino  Robert De Niro  Robert Duvall   \n",
      "4          Sidney Lumet     Henry Fonda     Lee J. Cobb  Martin Balsam   \n",
      "\n",
      "            Star4  No_of_Votes        Gross  \n",
      "0  William Sadler      2343110   28,341,469  \n",
      "1    Diane Keaton      1620367  134,966,411  \n",
      "2   Michael Caine      2303232  534,858,444  \n",
      "3    Diane Keaton      1129952   57,300,000  \n",
      "4    John Fiedler       689845    4,360,000  \n"
     ]
    }
   ],
   "source": [
    "import pandas as pd\n",
    "\n",
    "# Load the dataset\n",
    "df = pd.read_csv(\"movies.csv\")\n",
    "\n",
    "# first few rows\n",
    "print(df.head())\n"
   ]
  },
  {
   "cell_type": "code",
   "execution_count": 88,
   "id": "2863dc07-c8fe-4c56-87a0-4dee210a1a48",
   "metadata": {},
   "outputs": [
    {
     "name": "stdout",
     "output_type": "stream",
     "text": [
      "                      Title  \\\n",
      "0  The Shawshank Redemption   \n",
      "1             The Godfather   \n",
      "2           The Dark Knight   \n",
      "3    The Godfather: Part II   \n",
      "4              12 Angry Men   \n",
      "\n",
      "                                         Description                 Genre  \\\n",
      "0  Two imprisoned men bond over a number of years...                 Drama   \n",
      "1  An organized crime dynasty's aging patriarch t...          Crime, Drama   \n",
      "2  When the menace known as the Joker wreaks havo...  Action, Crime, Drama   \n",
      "3  The early life and career of Vito Corleone in ...          Crime, Drama   \n",
      "4  A jury holdout attempts to prevent a miscarria...          Crime, Drama   \n",
      "\n",
      "   IMDB_Rating  \n",
      "0          9.3  \n",
      "1          9.2  \n",
      "2          9.0  \n",
      "3          9.0  \n",
      "4          9.0  \n"
     ]
    }
   ],
   "source": [
    "df = df[['Series_Title', 'Overview', 'Genre', 'IMDB_Rating']]  # Keep only relevant columns\n",
    "df = df.rename(columns={'Series_Title': 'Title', 'Overview': 'Description'})  # Rename for consistency\n",
    "\n",
    "# Drop missing values\n",
    "df = df.dropna()\n",
    "\n",
    "print(df.head())  \n"
   ]
  },
  {
   "cell_type": "code",
   "execution_count": 90,
   "id": "f8ade7cd-3fcb-475f-8584-db5a3a25ae80",
   "metadata": {},
   "outputs": [
    {
     "name": "stdout",
     "output_type": "stream",
     "text": [
      "                      Title                              processed_description\n",
      "0  The Shawshank Redemption  two imprisoned men bond over a number of years...\n",
      "1             The Godfather  an organized crime dynasty s aging patriarch t...\n",
      "2           The Dark Knight  when the menace known as the joker wreaks havo...\n",
      "3    The Godfather: Part II  the early life and career of vito corleone in ...\n",
      "4              12 Angry Men  a jury holdout attempts to prevent a miscarria...\n"
     ]
    }
   ],
   "source": [
    "import re\n",
    "\n",
    "def preprocess_text(text):\n",
    "    text = str(text).lower()  # Convert to lowercase\n",
    "    text = re.sub(r'\\W', ' ', text)  # Remove special characters\n",
    "    text = re.sub(r'\\s+', ' ', text)  # Remove extra spaces\n",
    "    return text.strip()\n",
    "\n",
    "# Applying text preprocessing\n",
    "df['processed_description'] = df['Description'].apply(preprocess_text)\n",
    "\n",
    "# Show processed descriptions\n",
    "print(df[['Title', 'processed_description']].head())\n"
   ]
  },
  {
   "cell_type": "code",
   "execution_count": 92,
   "id": "7f614b23-20ed-4b55-9a1f-06d2df0a6827",
   "metadata": {},
   "outputs": [],
   "source": [
    "from sklearn.feature_extraction.text import TfidfVectorizer\n",
    "\n",
    "vectorizer = TfidfVectorizer(stop_words='english')\n",
    "tfidf_matrix = vectorizer.fit_transform(df['Description'])\n"
   ]
  },
  {
   "cell_type": "code",
   "execution_count": 94,
   "id": "9526f8ad-bce0-47cc-84e0-4ded03de194f",
   "metadata": {},
   "outputs": [
    {
     "name": "stdout",
     "output_type": "stream",
     "text": [
      "                         Title                         Genre  IMDB_Rating  \\\n",
      "378            The Incredibles  Animation, Action, Adventure          8.0   \n",
      "692  The Man Who Would Be King       Adventure, History, War          7.8   \n",
      "826                Barton Fink       Comedy, Drama, Thriller          7.7   \n",
      "106                     Aliens     Action, Adventure, Sci-Fi          8.3   \n",
      "24         Saving Private Ryan                    Drama, War          8.6   \n",
      "\n",
      "                                           Description  \n",
      "378  A family of undercover superheroes, while tryi...  \n",
      "692  Two British former soldiers decide to set them...  \n",
      "826  A renowned New York playwright is enticed to C...  \n",
      "106  Fifty-seven years after surviving an apocalypt...  \n",
      "24   Following the Normandy Landings, a group of U....  \n"
     ]
    }
   ],
   "source": [
    "from sklearn.metrics.pairwise import cosine_similarity\n",
    "\n",
    "def get_recommendations(user_input, top_n=5):\n",
    "    user_vector = vectorizer.transform([user_input])  # Convert input into TF-IDF vector\n",
    "    similarities = cosine_similarity(user_vector, tfidf_matrix).flatten()  # Compute similarity\n",
    "    top_indices = similarities.argsort()[-top_n:][::-1]  # Get top N similar movies\n",
    "    return df.iloc[top_indices][['Title', 'Genre', 'IMDB_Rating', 'Description']]  # Return top results\n",
    "\n",
    "# Test the recommendation system\n",
    "user_query = \"I love thrilling action movies set in space.\"\n",
    "print(get_recommendations(user_query))\n"
   ]
  },
  {
   "cell_type": "code",
   "execution_count": 96,
   "id": "68312972-4556-4351-aa4b-9a7b92d8c627",
   "metadata": {},
   "outputs": [],
   "source": [
    "from sklearn.metrics.pairwise import cosine_similarity\n",
    "\n",
    "def get_recommendations(user_input, df, vectorizer, tfidf_matrix, top_n=5):\n",
    "    user_input = preprocess_text(user_input)  # Preprocess input text\n",
    "    user_vector = vectorizer.transform([user_input])  # Convert input to TF-IDF vector\n",
    "\n",
    "    # Compute cosine similarity between the user input and all dataset items\n",
    "    similarities = cosine_similarity(user_vector, tfidf_matrix).flatten()\n",
    "\n",
    "    # Get top N most similar items\n",
    "    top_indices = similarities.argsort()[-top_n:][::-1]  # Sort in descending order\n",
    "\n",
    "    # Select recommended movies and return them\n",
    "    recommendations = df.iloc[top_indices][['Title', 'Description', 'Genre', 'IMDB_Rating']]\n",
    "    \n",
    "    return recommendations\n"
   ]
  },
  {
   "cell_type": "code",
   "execution_count": 100,
   "id": "59c710c1-b708-4253-9c7d-700cc0a0b9a2",
   "metadata": {},
   "outputs": [
    {
     "name": "stdout",
     "output_type": "stream",
     "text": [
      "Top Recommended Movies:\n",
      "                          Title  \\\n",
      "378            The Incredibles   \n",
      "692  The Man Who Would Be King   \n",
      "826                Barton Fink   \n",
      "106                     Aliens   \n",
      "24         Saving Private Ryan   \n",
      "\n",
      "                                           Description  \\\n",
      "378  A family of undercover superheroes, while tryi...   \n",
      "692  Two British former soldiers decide to set them...   \n",
      "826  A renowned New York playwright is enticed to C...   \n",
      "106  Fifty-seven years after surviving an apocalypt...   \n",
      "24   Following the Normandy Landings, a group of U....   \n",
      "\n",
      "                            Genre  IMDB_Rating  \n",
      "378  Animation, Action, Adventure          8.0  \n",
      "692       Adventure, History, War          7.8  \n",
      "826       Comedy, Drama, Thriller          7.7  \n",
      "106     Action, Adventure, Sci-Fi          8.3  \n",
      "24                     Drama, War          8.6  \n"
     ]
    }
   ],
   "source": [
    "# Example query from a user\n",
    "user_query = \"I love thrilling action movies set in space.\"\n",
    "\n",
    "# Get top recommendations\n",
    "recommendations = get_recommendations(user_query, df, vectorizer, tfidf_matrix)\n",
    "\n",
    "# Display results\n",
    "print(\"Top Recommended Movies:\\n\", recommendations)\n"
   ]
  },
  {
   "cell_type": "code",
   "execution_count": 102,
   "id": "5fc799a5-394c-49de-bb44-08802c55732d",
   "metadata": {},
   "outputs": [
    {
     "name": "stdout",
     "output_type": "stream",
     "text": [
      "Defaulting to user installation because normal site-packages is not writeable\n",
      "Looking in links: /usr/share/pip-wheels\n",
      "Requirement already satisfied: ipywidgets in /opt/conda/envs/anaconda-ai-2024.04-py310/lib/python3.10/site-packages (8.1.2)\n",
      "Requirement already satisfied: comm>=0.1.3 in /opt/conda/envs/anaconda-ai-2024.04-py310/lib/python3.10/site-packages (from ipywidgets) (0.2.1)\n",
      "Requirement already satisfied: ipython>=6.1.0 in /opt/conda/envs/anaconda-ai-2024.04-py310/lib/python3.10/site-packages (from ipywidgets) (8.20.0)\n",
      "Requirement already satisfied: traitlets>=4.3.1 in /opt/conda/envs/anaconda-ai-2024.04-py310/lib/python3.10/site-packages (from ipywidgets) (5.7.1)\n",
      "Requirement already satisfied: widgetsnbextension~=4.0.10 in /opt/conda/envs/anaconda-ai-2024.04-py310/lib/python3.10/site-packages (from ipywidgets) (4.0.10)\n",
      "Requirement already satisfied: jupyterlab-widgets~=3.0.10 in /opt/conda/envs/anaconda-ai-2024.04-py310/lib/python3.10/site-packages (from ipywidgets) (3.0.10)\n",
      "Requirement already satisfied: decorator in /opt/conda/envs/anaconda-ai-2024.04-py310/lib/python3.10/site-packages (from ipython>=6.1.0->ipywidgets) (5.1.1)\n",
      "Requirement already satisfied: jedi>=0.16 in /opt/conda/envs/anaconda-ai-2024.04-py310/lib/python3.10/site-packages (from ipython>=6.1.0->ipywidgets) (0.18.1)\n",
      "Requirement already satisfied: matplotlib-inline in /opt/conda/envs/anaconda-ai-2024.04-py310/lib/python3.10/site-packages (from ipython>=6.1.0->ipywidgets) (0.1.6)\n",
      "Requirement already satisfied: prompt-toolkit<3.1.0,>=3.0.41 in /opt/conda/envs/anaconda-ai-2024.04-py310/lib/python3.10/site-packages (from ipython>=6.1.0->ipywidgets) (3.0.43)\n",
      "Requirement already satisfied: pygments>=2.4.0 in /opt/conda/envs/anaconda-ai-2024.04-py310/lib/python3.10/site-packages (from ipython>=6.1.0->ipywidgets) (2.15.1)\n",
      "Requirement already satisfied: stack-data in /opt/conda/envs/anaconda-ai-2024.04-py310/lib/python3.10/site-packages (from ipython>=6.1.0->ipywidgets) (0.2.0)\n",
      "Requirement already satisfied: exceptiongroup in /opt/conda/envs/anaconda-ai-2024.04-py310/lib/python3.10/site-packages (from ipython>=6.1.0->ipywidgets) (1.2.0)\n",
      "Requirement already satisfied: pexpect>4.3 in /opt/conda/envs/anaconda-ai-2024.04-py310/lib/python3.10/site-packages (from ipython>=6.1.0->ipywidgets) (4.8.0)\n",
      "Requirement already satisfied: parso<0.9.0,>=0.8.0 in /opt/conda/envs/anaconda-ai-2024.04-py310/lib/python3.10/site-packages (from jedi>=0.16->ipython>=6.1.0->ipywidgets) (0.8.3)\n",
      "Requirement already satisfied: ptyprocess>=0.5 in /opt/conda/envs/anaconda-ai-2024.04-py310/lib/python3.10/site-packages (from pexpect>4.3->ipython>=6.1.0->ipywidgets) (0.7.0)\n",
      "Requirement already satisfied: wcwidth in /opt/conda/envs/anaconda-ai-2024.04-py310/lib/python3.10/site-packages (from prompt-toolkit<3.1.0,>=3.0.41->ipython>=6.1.0->ipywidgets) (0.2.5)\n",
      "Requirement already satisfied: executing in /opt/conda/envs/anaconda-ai-2024.04-py310/lib/python3.10/site-packages (from stack-data->ipython>=6.1.0->ipywidgets) (0.8.3)\n",
      "Requirement already satisfied: asttokens in /opt/conda/envs/anaconda-ai-2024.04-py310/lib/python3.10/site-packages (from stack-data->ipython>=6.1.0->ipywidgets) (2.0.5)\n",
      "Requirement already satisfied: pure-eval in /opt/conda/envs/anaconda-ai-2024.04-py310/lib/python3.10/site-packages (from stack-data->ipython>=6.1.0->ipywidgets) (0.2.2)\n",
      "Requirement already satisfied: six in /opt/conda/envs/anaconda-ai-2024.04-py310/lib/python3.10/site-packages (from asttokens->stack-data->ipython>=6.1.0->ipywidgets) (1.16.0)\n"
     ]
    }
   ],
   "source": [
    "!pip install ipywidgets\n"
   ]
  },
  {
   "cell_type": "code",
   "execution_count": 103,
   "id": "ef365a9d-188e-4a88-b7f7-0f74941091b4",
   "metadata": {},
   "outputs": [
    {
     "data": {
      "application/vnd.jupyter.widget-view+json": {
       "model_id": "f3401f22a1b347ac840d3ae0a8d1e959",
       "version_major": 2,
       "version_minor": 0
      },
      "text/plain": [
       "Text(value='', layout=Layout(width='50%'), placeholder='Describe a movie you like...')"
      ]
     },
     "metadata": {},
     "output_type": "display_data"
    },
    {
     "data": {
      "application/vnd.jupyter.widget-view+json": {
       "model_id": "7063135fb87a47fea0b0ed89ccbbfbe9",
       "version_major": 2,
       "version_minor": 0
      },
      "text/plain": [
       "Button(description='Get Recommendations', style=ButtonStyle())"
      ]
     },
     "metadata": {},
     "output_type": "display_data"
    }
   ],
   "source": [
    "import ipywidgets as widgets\n",
    "from IPython.display import display\n",
    "\n",
    "# Create a text input box\n",
    "text_input = widgets.Text(\n",
    "    placeholder=\"Describe a movie you like...\",\n",
    "    layout=widgets.Layout(width=\"50%\")\n",
    ")\n",
    "\n",
    "# Create a button\n",
    "button = widgets.Button(description=\"Get Recommendations\")\n",
    "\n",
    "# Function to display recommendations\n",
    "def on_button_click(b):\n",
    "    user_query = text_input.value  # Get user input\n",
    "    recommendations = get_recommendations(user_query, df, vectorizer, tfidf_matrix)\n",
    "    print(\"\\n Top Recommended Movies:\\n\")\n",
    "    display(recommendations)\n",
    "\n",
    "# Attach function to button click\n",
    "button.on_click(on_button_click)\n",
    "\n",
    "# Display the UI\n",
    "display(text_input, button)\n"
   ]
  },
  {
   "cell_type": "code",
   "execution_count": null,
   "id": "2bc93aeb-2c4c-4b9d-a211-544ec124e6f8",
   "metadata": {},
   "outputs": [],
   "source": []
  },
  {
   "cell_type": "code",
   "execution_count": null,
   "id": "ea809286-82d2-4211-9510-3480417cf5a0",
   "metadata": {},
   "outputs": [],
   "source": []
  }
 ],
 "metadata": {
  "kernelspec": {
   "display_name": "anaconda-ai-2024.04-py310",
   "language": "python",
   "name": "conda-env-anaconda-ai-2024.04-py310-py"
  },
  "language_info": {
   "codemirror_mode": {
    "name": "ipython",
    "version": 3
   },
   "file_extension": ".py",
   "mimetype": "text/x-python",
   "name": "python",
   "nbconvert_exporter": "python",
   "pygments_lexer": "ipython3",
   "version": "3.10.13"
  }
 },
 "nbformat": 4,
 "nbformat_minor": 5
}
